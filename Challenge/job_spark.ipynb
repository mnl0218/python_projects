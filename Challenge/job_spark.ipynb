{
 "cells": [
  {
   "cell_type": "code",
   "execution_count": 1,
   "id": "2ed7fb3c",
   "metadata": {},
   "outputs": [],
   "source": [
    "# importing necessary libraries\n",
    "from pyspark import SparkConf, SparkContext"
   ]
  },
  {
   "cell_type": "code",
   "execution_count": 2,
   "id": "1bb822f6",
   "metadata": {},
   "outputs": [],
   "source": [
    "# function to create new SparkConf\n",
    "def create_conf():\n",
    "    conf = SparkConf().setMaster(\"local\").setAppName(\"Pruebas\")\n",
    "    sc = SparkContext(conf = conf)\n",
    "    return sc"
   ]
  },
  {
   "cell_type": "code",
   "execution_count": 3,
   "id": "252c8c79",
   "metadata": {},
   "outputs": [
    {
     "name": "stdout",
     "output_type": "stream",
     "text": [
      "22/08/07 06:52:26 WARN Utils: Your hostname, LAPTOP-8IBQQ1OO resolves to a loopback address: 127.0.1.1; using 192.168.106.170 instead (on interface eth0)\n",
      "22/08/07 06:52:26 WARN Utils: Set SPARK_LOCAL_IP if you need to bind to another address\n"
     ]
    },
    {
     "name": "stderr",
     "output_type": "stream",
     "text": [
      "Setting default log level to \"WARN\".\n",
      "To adjust logging level use sc.setLogLevel(newLevel). For SparkR, use setLogLevel(newLevel).\n"
     ]
    },
    {
     "name": "stdout",
     "output_type": "stream",
     "text": [
      "22/08/07 06:52:28 WARN NativeCodeLoader: Unable to load native-hadoop library for your platform... using builtin-java classes where applicable\n",
      "22/08/07 06:52:29 WARN Utils: Service 'SparkUI' could not bind on port 4040. Attempting port 4041.\n",
      "22/08/07 06:52:29 WARN Utils: Service 'SparkUI' could not bind on port 4041. Attempting port 4042.\n"
     ]
    }
   ],
   "source": [
    "if __name__ == \"__main__\":\n",
    " \n",
    "    # calling function to create SparkConf\n",
    "    spark = create_conf()\n",
    " \n",
    "    drr = spark.textFile(\"Data/covid_19_clean_complete.csv\")"
   ]
  },
  {
   "cell_type": "code",
   "execution_count": 4,
   "id": "33bf542e",
   "metadata": {},
   "outputs": [
    {
     "data": {
      "text/plain": [
       "Data/covid_19_clean_complete.csv MapPartitionsRDD[1] at textFile at NativeMethodAccessorImpl.java:0"
      ]
     },
     "execution_count": 4,
     "metadata": {},
     "output_type": "execute_result"
    }
   ],
   "source": [
    "# DRR type\n",
    "drr"
   ]
  },
  {
   "cell_type": "code",
   "execution_count": 5,
   "id": "c387a184",
   "metadata": {},
   "outputs": [
    {
     "name": "stderr",
     "output_type": "stream",
     "text": [
      "                                                                                \r"
     ]
    },
    {
     "data": {
      "text/plain": [
       "49069"
      ]
     },
     "execution_count": 5,
     "metadata": {},
     "output_type": "execute_result"
    }
   ],
   "source": [
    "# count lines\n",
    "drr.count()"
   ]
  },
  {
   "cell_type": "code",
   "execution_count": 6,
   "id": "1623609a",
   "metadata": {},
   "outputs": [
    {
     "data": {
      "text/plain": [
       "['Province/State,Country/Region,Lat,Long,Date,Confirmed,Deaths,Recovered,Active,WHO Region',\n",
       " ',Afghanistan,33.93911,67.709953,2020-01-22,0,0,0,0,Eastern Mediterranean',\n",
       " ',Albania,41.1533,20.1683,2020-01-22,0,0,0,0,Europe',\n",
       " ',Algeria,28.0339,1.6596,2020-01-22,0,0,0,0,Africa']"
      ]
     },
     "execution_count": 6,
     "metadata": {},
     "output_type": "execute_result"
    }
   ],
   "source": [
    "# show 4 lines\n",
    "drr.take(4)"
   ]
  },
  {
   "cell_type": "code",
   "execution_count": 7,
   "id": "afa56ad9",
   "metadata": {},
   "outputs": [],
   "source": [
    "# New RDD whit filter\n",
    "ue_region = drr.filter(lambda line: \"Europe\" in line)"
   ]
  },
  {
   "cell_type": "code",
   "execution_count": 9,
   "id": "d6952670",
   "metadata": {},
   "outputs": [
    {
     "data": {
      "text/plain": [
       "15040"
      ]
     },
     "execution_count": 9,
     "metadata": {},
     "output_type": "execute_result"
    }
   ],
   "source": [
    "ue_region.count()"
   ]
  }
 ],
 "metadata": {
  "kernelspec": {
   "display_name": "Python 3 (ipykernel)",
   "language": "python",
   "name": "python3"
  },
  "language_info": {
   "codemirror_mode": {
    "name": "ipython",
    "version": 3
   },
   "file_extension": ".py",
   "mimetype": "text/x-python",
   "name": "python",
   "nbconvert_exporter": "python",
   "pygments_lexer": "ipython3",
   "version": "3.8.10"
  }
 },
 "nbformat": 4,
 "nbformat_minor": 5
}
