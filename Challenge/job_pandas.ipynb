{
 "cells": [
  {
   "cell_type": "code",
   "execution_count": 1,
   "id": "fefb0847",
   "metadata": {},
   "outputs": [],
   "source": [
    "# importing necessary libraries\n",
    "import pandas as pd"
   ]
  },
  {
   "cell_type": "code",
   "execution_count": 2,
   "id": "bf85df6c",
   "metadata": {},
   "outputs": [
    {
     "name": "stdout",
     "output_type": "stream",
     "text": [
      "      Province/State         Country/Region        Lat       Long        Date  \\\n",
      "0                NaN            Afghanistan  33.939110  67.709953  2020-01-22   \n",
      "1                NaN                Albania  41.153300  20.168300  2020-01-22   \n",
      "2                NaN                Algeria  28.033900   1.659600  2020-01-22   \n",
      "3                NaN                Andorra  42.506300   1.521800  2020-01-22   \n",
      "4                NaN                 Angola -11.202700  17.873900  2020-01-22   \n",
      "...              ...                    ...        ...        ...         ...   \n",
      "49063            NaN  Sao Tome and Principe   0.186400   6.613100  2020-07-27   \n",
      "49064            NaN                  Yemen  15.552727  48.516388  2020-07-27   \n",
      "49065            NaN                Comoros -11.645500  43.333300  2020-07-27   \n",
      "49066            NaN             Tajikistan  38.861000  71.276100  2020-07-27   \n",
      "49067            NaN                Lesotho -29.610000  28.233600  2020-07-27   \n",
      "\n",
      "       Confirmed  Deaths  Recovered  Active             WHO Region  \n",
      "0              0       0          0       0  Eastern Mediterranean  \n",
      "1              0       0          0       0                 Europe  \n",
      "2              0       0          0       0                 Africa  \n",
      "3              0       0          0       0                 Europe  \n",
      "4              0       0          0       0                 Africa  \n",
      "...          ...     ...        ...     ...                    ...  \n",
      "49063        865      14        734     117                 Africa  \n",
      "49064       1691     483        833     375  Eastern Mediterranean  \n",
      "49065        354       7        328      19                 Africa  \n",
      "49066       7235      60       6028    1147                 Europe  \n",
      "49067        505      12        128     365                 Africa  \n",
      "\n",
      "[49068 rows x 10 columns]\n"
     ]
    }
   ],
   "source": [
    "# Load csv file\n",
    "df = pd.read_csv(\"Data/covid_19_clean_complete.csv\")\n",
    " \n",
    "print(df)"
   ]
  },
  {
   "cell_type": "code",
   "execution_count": 3,
   "id": "511a50b9",
   "metadata": {},
   "outputs": [
    {
     "data": {
      "text/plain": [
       "(49068, 10)"
      ]
     },
     "execution_count": 3,
     "metadata": {},
     "output_type": "execute_result"
    }
   ],
   "source": [
    "# Count rows and columns\n",
    "df.shape\n"
   ]
  },
  {
   "cell_type": "code",
   "execution_count": 4,
   "id": "53619c1f",
   "metadata": {},
   "outputs": [
    {
     "data": {
      "text/html": [
       "<div>\n",
       "<style scoped>\n",
       "    .dataframe tbody tr th:only-of-type {\n",
       "        vertical-align: middle;\n",
       "    }\n",
       "\n",
       "    .dataframe tbody tr th {\n",
       "        vertical-align: top;\n",
       "    }\n",
       "\n",
       "    .dataframe thead th {\n",
       "        text-align: right;\n",
       "    }\n",
       "</style>\n",
       "<table border=\"1\" class=\"dataframe\">\n",
       "  <thead>\n",
       "    <tr style=\"text-align: right;\">\n",
       "      <th></th>\n",
       "      <th>Province/State</th>\n",
       "      <th>Country/Region</th>\n",
       "      <th>Lat</th>\n",
       "      <th>Long</th>\n",
       "      <th>Date</th>\n",
       "      <th>Confirmed</th>\n",
       "      <th>Deaths</th>\n",
       "      <th>Recovered</th>\n",
       "      <th>Active</th>\n",
       "      <th>WHO Region</th>\n",
       "    </tr>\n",
       "  </thead>\n",
       "  <tbody>\n",
       "    <tr>\n",
       "      <th>0</th>\n",
       "      <td>NaN</td>\n",
       "      <td>Afghanistan</td>\n",
       "      <td>33.93911</td>\n",
       "      <td>67.709953</td>\n",
       "      <td>2020-01-22</td>\n",
       "      <td>0</td>\n",
       "      <td>0</td>\n",
       "      <td>0</td>\n",
       "      <td>0</td>\n",
       "      <td>Eastern Mediterranean</td>\n",
       "    </tr>\n",
       "    <tr>\n",
       "      <th>1</th>\n",
       "      <td>NaN</td>\n",
       "      <td>Albania</td>\n",
       "      <td>41.15330</td>\n",
       "      <td>20.168300</td>\n",
       "      <td>2020-01-22</td>\n",
       "      <td>0</td>\n",
       "      <td>0</td>\n",
       "      <td>0</td>\n",
       "      <td>0</td>\n",
       "      <td>Europe</td>\n",
       "    </tr>\n",
       "    <tr>\n",
       "      <th>2</th>\n",
       "      <td>NaN</td>\n",
       "      <td>Algeria</td>\n",
       "      <td>28.03390</td>\n",
       "      <td>1.659600</td>\n",
       "      <td>2020-01-22</td>\n",
       "      <td>0</td>\n",
       "      <td>0</td>\n",
       "      <td>0</td>\n",
       "      <td>0</td>\n",
       "      <td>Africa</td>\n",
       "    </tr>\n",
       "    <tr>\n",
       "      <th>3</th>\n",
       "      <td>NaN</td>\n",
       "      <td>Andorra</td>\n",
       "      <td>42.50630</td>\n",
       "      <td>1.521800</td>\n",
       "      <td>2020-01-22</td>\n",
       "      <td>0</td>\n",
       "      <td>0</td>\n",
       "      <td>0</td>\n",
       "      <td>0</td>\n",
       "      <td>Europe</td>\n",
       "    </tr>\n",
       "    <tr>\n",
       "      <th>4</th>\n",
       "      <td>NaN</td>\n",
       "      <td>Angola</td>\n",
       "      <td>-11.20270</td>\n",
       "      <td>17.873900</td>\n",
       "      <td>2020-01-22</td>\n",
       "      <td>0</td>\n",
       "      <td>0</td>\n",
       "      <td>0</td>\n",
       "      <td>0</td>\n",
       "      <td>Africa</td>\n",
       "    </tr>\n",
       "  </tbody>\n",
       "</table>\n",
       "</div>"
      ],
      "text/plain": [
       "  Province/State Country/Region       Lat       Long        Date  Confirmed  \\\n",
       "0            NaN    Afghanistan  33.93911  67.709953  2020-01-22          0   \n",
       "1            NaN        Albania  41.15330  20.168300  2020-01-22          0   \n",
       "2            NaN        Algeria  28.03390   1.659600  2020-01-22          0   \n",
       "3            NaN        Andorra  42.50630   1.521800  2020-01-22          0   \n",
       "4            NaN         Angola -11.20270  17.873900  2020-01-22          0   \n",
       "\n",
       "   Deaths  Recovered  Active             WHO Region  \n",
       "0       0          0       0  Eastern Mediterranean  \n",
       "1       0          0       0                 Europe  \n",
       "2       0          0       0                 Africa  \n",
       "3       0          0       0                 Europe  \n",
       "4       0          0       0                 Africa  "
      ]
     },
     "execution_count": 4,
     "metadata": {},
     "output_type": "execute_result"
    }
   ],
   "source": [
    "df.head()"
   ]
  },
  {
   "cell_type": "code",
   "execution_count": 8,
   "id": "29972fa8",
   "metadata": {},
   "outputs": [
    {
     "data": {
      "text/plain": [
       "Province/State     object\n",
       "Country/Region     object\n",
       "Lat               float64\n",
       "Long              float64\n",
       "Date               object\n",
       "Confirmed           int64\n",
       "Deaths              int64\n",
       "Recovered           int64\n",
       "Active              int64\n",
       "WHO Region         object\n",
       "dtype: object"
      ]
     },
     "execution_count": 8,
     "metadata": {},
     "output_type": "execute_result"
    }
   ],
   "source": [
    "df.dtypes"
   ]
  },
  {
   "cell_type": "code",
   "execution_count": 10,
   "id": "30fd449c",
   "metadata": {},
   "outputs": [
    {
     "data": {
      "text/plain": [
       "Index(['Province/State', 'Country/Region', 'Lat', 'Long', 'Date', 'Confirmed',\n",
       "       'Deaths', 'Recovered', 'Active', 'WHO Region'],\n",
       "      dtype='object')"
      ]
     },
     "execution_count": 10,
     "metadata": {},
     "output_type": "execute_result"
    }
   ],
   "source": [
    "df.columns"
   ]
  },
  {
   "cell_type": "code",
   "execution_count": 8,
   "id": "0b3015c0",
   "metadata": {},
   "outputs": [],
   "source": [
    "fil_reg = df[\"WHO Region\"] == 'Europe'"
   ]
  },
  {
   "cell_type": "code",
   "execution_count": 14,
   "id": "7f15a96f",
   "metadata": {},
   "outputs": [],
   "source": [
    "filtered_fil = df[fil_reg]"
   ]
  },
  {
   "cell_type": "code",
   "execution_count": 15,
   "id": "d932b82a",
   "metadata": {},
   "outputs": [
    {
     "name": "stdout",
     "output_type": "stream",
     "text": [
      "                    Province/State  Country/Region      Lat     Long  \\\n",
      "1                              NaN         Albania  41.1533  20.1683   \n",
      "3                              NaN         Andorra  42.5063   1.5218   \n",
      "7                              NaN         Armenia  40.0691  45.0382   \n",
      "16                             NaN         Austria  47.5162  14.5501   \n",
      "17                             NaN      Azerbaijan  40.1431  47.5769   \n",
      "...                            ...             ...      ...      ...   \n",
      "49053       British Virgin Islands  United Kingdom  18.4207 -64.6400   \n",
      "49054     Turks and Caicos Islands  United Kingdom  21.6940 -71.7979   \n",
      "49059  Falkland Islands (Malvinas)  United Kingdom -51.7963 -59.5236   \n",
      "49060    Saint Pierre and Miquelon          France  46.8852 -56.3159   \n",
      "49066                          NaN      Tajikistan  38.8610  71.2761   \n",
      "\n",
      "             Date  Confirmed  Deaths  Recovered  Active WHO Region  \n",
      "1      2020-01-22          0       0          0       0     Europe  \n",
      "3      2020-01-22          0       0          0       0     Europe  \n",
      "7      2020-01-22          0       0          0       0     Europe  \n",
      "16     2020-01-22          0       0          0       0     Europe  \n",
      "17     2020-01-22          0       0          0       0     Europe  \n",
      "...           ...        ...     ...        ...     ...        ...  \n",
      "49053  2020-07-27          8       1          7       0     Europe  \n",
      "49054  2020-07-27         99       2         36      61     Europe  \n",
      "49059  2020-07-27         13       0         13       0     Europe  \n",
      "49060  2020-07-27          4       0          1       3     Europe  \n",
      "49066  2020-07-27       7235      60       6028    1147     Europe  \n",
      "\n",
      "[15040 rows x 10 columns]\n"
     ]
    }
   ],
   "source": [
    "print(filtered_fil)"
   ]
  },
  {
   "cell_type": "code",
   "execution_count": 16,
   "id": "cbf2e10e",
   "metadata": {},
   "outputs": [
    {
     "data": {
      "text/plain": [
       "(15040, 10)"
      ]
     },
     "execution_count": 16,
     "metadata": {},
     "output_type": "execute_result"
    }
   ],
   "source": [
    "filtered_fil.shape"
   ]
  },
  {
   "cell_type": "code",
   "execution_count": 14,
   "id": "d33f2265",
   "metadata": {},
   "outputs": [],
   "source": [
    "# Convert to parquet\n",
    "df.to_parquet('/home/data_science/proyectos/Challenge/Data/covid_19.parquet', engine='fastparquet')"
   ]
  },
  {
   "cell_type": "code",
   "execution_count": 15,
   "id": "56f46f84",
   "metadata": {},
   "outputs": [
    {
     "name": "stdout",
     "output_type": "stream",
     "text": [
      "      Province/State         Country/Region        Lat       Long        Date  \\\n",
      "0                NaN            Afghanistan  33.939110  67.709953  2020-01-22   \n",
      "1                NaN                Albania  41.153300  20.168300  2020-01-22   \n",
      "2                NaN                Algeria  28.033900   1.659600  2020-01-22   \n",
      "3                NaN                Andorra  42.506300   1.521800  2020-01-22   \n",
      "4                NaN                 Angola -11.202700  17.873900  2020-01-22   \n",
      "...              ...                    ...        ...        ...         ...   \n",
      "49063            NaN  Sao Tome and Principe   0.186400   6.613100  2020-07-27   \n",
      "49064            NaN                  Yemen  15.552727  48.516388  2020-07-27   \n",
      "49065            NaN                Comoros -11.645500  43.333300  2020-07-27   \n",
      "49066            NaN             Tajikistan  38.861000  71.276100  2020-07-27   \n",
      "49067            NaN                Lesotho -29.610000  28.233600  2020-07-27   \n",
      "\n",
      "       Confirmed  Deaths  Recovered  Active             WHO Region  \n",
      "0              0       0          0       0  Eastern Mediterranean  \n",
      "1              0       0          0       0                 Europe  \n",
      "2              0       0          0       0                 Africa  \n",
      "3              0       0          0       0                 Europe  \n",
      "4              0       0          0       0                 Africa  \n",
      "...          ...     ...        ...     ...                    ...  \n",
      "49063        865      14        734     117                 Africa  \n",
      "49064       1691     483        833     375  Eastern Mediterranean  \n",
      "49065        354       7        328      19                 Africa  \n",
      "49066       7235      60       6028    1147                 Europe  \n",
      "49067        505      12        128     365                 Africa  \n",
      "\n",
      "[49068 rows x 10 columns]\n"
     ]
    }
   ],
   "source": [
    "# Load parquet\n",
    "dapar = pd.read_parquet('/home/data_science/proyectos/Challenge/Data/covid_19.parquet')\n",
    "print(df)"
   ]
  }
 ],
 "metadata": {
  "kernelspec": {
   "display_name": "Python 3 (ipykernel)",
   "language": "python",
   "name": "python3"
  },
  "language_info": {
   "codemirror_mode": {
    "name": "ipython",
    "version": 3
   },
   "file_extension": ".py",
   "mimetype": "text/x-python",
   "name": "python",
   "nbconvert_exporter": "python",
   "pygments_lexer": "ipython3",
   "version": "3.8.10"
  }
 },
 "nbformat": 4,
 "nbformat_minor": 5
}
